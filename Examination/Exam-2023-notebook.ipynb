{
 "cells": [
  {
   "attachments": {},
   "cell_type": "markdown",
   "metadata": {},
   "source": [
    "**Table of contents**<a id='toc0_'></a>    \n",
    "- 1. [Problem 1: Optimal taxation with government consumption](#toc1_)    \n",
    "- 2. [Problem 2: Labor adjustment costs](#toc2_)    \n",
    "- 3. [Problem 3: Global optimizer with refined multi-start](#toc3_)    \n",
    "\n",
    "<!-- vscode-jupyter-toc-config\n",
    "\tnumbering=true\n",
    "\tanchor=true\n",
    "\tflat=false\n",
    "\tminLevel=2\n",
    "\tmaxLevel=6\n",
    "\t/vscode-jupyter-toc-config -->\n",
    "<!-- THIS CELL WILL BE REPLACED ON TOC UPDATE. DO NOT WRITE YOUR TEXT IN THIS CELL -->"
   ]
  },
  {
   "cell_type": "code",
   "execution_count": 1,
   "metadata": {},
   "outputs": [],
   "source": [
    "# write your code here\n",
    "import sympy as sm\n",
    "import numpy as np\n",
    "import matplotlib.pyplot as plt\n",
    "from scipy.optimize import minimize\n"
   ]
  },
  {
   "cell_type": "markdown",
   "metadata": {},
   "source": []
  },
  {
   "attachments": {},
   "cell_type": "markdown",
   "metadata": {},
   "source": [
    "## 1. <a id='toc1_'></a>[Problem 1: Optimal taxation with government consumption](#toc0_)"
   ]
  },
  {
   "attachments": {},
   "cell_type": "markdown",
   "metadata": {},
   "source": [
    "\n",
    "Consider a worker choosing hours of labor, $L\\in[0,24]$, to maximize utility: \n",
    "\n",
    "$$\n",
    "\\begin{align*}\n",
    "V(w,\\tau,G)&=\\max_{L\\in[0,24]}\\ln\\left(C^{\\alpha}G^{1-\\alpha}\\right)-\\nu\\frac{L^{2}}{2}\\\\&\\text{s.t.}\\\\&C=\\kappa+(1-\\tau)wL\n",
    "\\end{align*}\n",
    "$$\n",
    "\n",
    "where \n",
    "\n",
    "* $C$ is *private* consumption with weight $\\alpha\\in(0,1)$.\n",
    "* $\\kappa > 0$ is the *free private* consumption component.\n",
    "* $C = (1-\\tau)wL$ is the *costly private* consumption component.\n",
    "* $w > 0 $ is the real wage.\n",
    "* $\\tau \\in (0,1)$ is the labor-income tax rate.\n",
    "* $G > 0 $ is *government* consumption with weight $1-\\alpha$.\n",
    "* $\\nu > 0$ is the disutility of labor scaling factor"
   ]
  },
  {
   "attachments": {},
   "cell_type": "markdown",
   "metadata": {},
   "source": [
    "\n",
    "The baseline parameters are:\n",
    "\n",
    "$$\n",
    "\\begin{align*}\n",
    "\\alpha &= 0.5\\\\\n",
    "\\kappa &= 1.0\\\\\n",
    "\\nu &= \\frac{1}{2\\cdot16^2} \\\\\n",
    "w &= 1.0 \\\\ \n",
    "\\tau &= 0.30 \\\\\n",
    "\\end{align*}\n",
    "$$"
   ]
  },
  {
   "attachments": {},
   "cell_type": "markdown",
   "metadata": {},
   "source": [
    "**Question 1:** Verify that the optimal labor supply choice is $L^{\\star}(\\tilde{w}) =\\frac{-\\kappa+\\sqrt{\\kappa^{2}+4\\frac{\\alpha}{\\nu}\\tilde{w}^2}}{2\\tilde{w}}$, where $\\tilde{w} = (1-\\tau)w$, for $G\\in\\left\\{1.0 , 2.0\\right\\}$."
   ]
  },
  {
   "attachments": {},
   "cell_type": "markdown",
   "metadata": {},
   "source": [
    "Verify that $L^{\\star}(\\tilde{w}) =\\frac{-\\kappa+\\sqrt{\\kappa^{2}+4\\frac{\\alpha}{\\nu}\\tilde{w}^2}}{2\\tilde{w}}$ with symbol Python"
   ]
  },
  {
   "cell_type": "code",
   "execution_count": 2,
   "metadata": {},
   "outputs": [],
   "source": [
    "# write your code here\n",
    "#Define the symbols\n",
    "C = sm.symbols('C')\n",
    "G = sm.symbols('G')\n",
    "L = sm.symbols('L')\n",
    "w = sm.symbols('w')\n",
    "w_tilde = sm.symbols('wtilde')\n",
    "alpha = sm.symbols('alpha')\n",
    "kappa = sm.symbols('kappa')\n",
    "nu = sm.symbols('nu')\n",
    "omega = sm.symbols('omega')\n",
    "tau = sm.symbols('tau')"
   ]
  },
  {
   "cell_type": "code",
   "execution_count": 3,
   "metadata": {},
   "outputs": [
    {
     "data": {
      "text/latex": [
       "$\\displaystyle - \\frac{L^{2} \\nu}{2} + \\log{\\left(C^{\\alpha} G^{1 - \\alpha} \\right)}$"
      ],
      "text/plain": [
       "-L**2*nu/2 + log(C**alpha*G**(1 - alpha))"
      ]
     },
     "execution_count": 3,
     "metadata": {},
     "output_type": "execute_result"
    }
   ],
   "source": [
    "#Define the utility function\n",
    "objective = sm.ln(C**alpha*G**(1-alpha))-nu*L**2/2\n",
    "objective"
   ]
  },
  {
   "cell_type": "code",
   "execution_count": 4,
   "metadata": {},
   "outputs": [
    {
     "data": {
      "text/latex": [
       "$\\displaystyle L w \\left(1 - \\tau\\right) + \\kappa$"
      ],
      "text/plain": [
       "L*w*(1 - tau) + kappa"
      ]
     },
     "execution_count": 4,
     "metadata": {},
     "output_type": "execute_result"
    }
   ],
   "source": [
    "budget_constraint = kappa+(1-tau)*w*L\n",
    "budget_constraint"
   ]
  },
  {
   "cell_type": "code",
   "execution_count": 5,
   "metadata": {},
   "outputs": [
    {
     "data": {
      "text/latex": [
       "$\\displaystyle - \\frac{L^{2} \\nu}{2} + \\log{\\left(G^{1 - \\alpha} \\left(L w \\left(1 - \\tau\\right) + \\kappa\\right)^{\\alpha} \\right)}$"
      ],
      "text/plain": [
       "-L**2*nu/2 + log(G**(1 - alpha)*(L*w*(1 - tau) + kappa)**alpha)"
      ]
     },
     "execution_count": 5,
     "metadata": {},
     "output_type": "execute_result"
    }
   ],
   "source": [
    "objective_subs = objective.subs(C,budget_constraint)\n",
    "objective_subs"
   ]
  },
  {
   "cell_type": "code",
   "execution_count": 6,
   "metadata": {},
   "outputs": [
    {
     "data": {
      "text/latex": [
       "$\\displaystyle - \\frac{L^{2} \\nu}{2} + \\log{\\left(G^{1 - \\alpha} \\left(L \\tilde{w} + \\kappa\\right)^{\\alpha} \\right)}$"
      ],
      "text/plain": [
       "-L**2*nu/2 + log(G**(1 - alpha)*(L*wtilde + kappa)**alpha)"
      ]
     },
     "execution_count": 6,
     "metadata": {},
     "output_type": "execute_result"
    }
   ],
   "source": [
    "objective_subs_2 = objective_subs.subs(w*(1-tau),w_tilde)\n",
    "objective_subs_2"
   ]
  },
  {
   "cell_type": "code",
   "execution_count": 7,
   "metadata": {},
   "outputs": [
    {
     "data": {
      "text/latex": [
       "$\\displaystyle \\frac{G^{1 - \\alpha} G^{\\alpha - 1} \\alpha \\tilde{w}}{L \\tilde{w} + \\kappa} - L \\nu$"
      ],
      "text/plain": [
       "G**(1 - alpha)*G**(alpha - 1)*alpha*wtilde/(L*wtilde + kappa) - L*nu"
      ]
     },
     "execution_count": 7,
     "metadata": {},
     "output_type": "execute_result"
    }
   ],
   "source": [
    "foc = sm.diff(objective_subs_2, L)\n",
    "foc"
   ]
  },
  {
   "cell_type": "code",
   "execution_count": 8,
   "metadata": {},
   "outputs": [
    {
     "data": {
      "text/latex": [
       "$\\displaystyle \\frac{- \\kappa \\nu - \\sqrt{\\nu \\left(4 \\alpha \\tilde{w}^{2} + \\kappa^{2} \\nu\\right)}}{2 \\nu \\tilde{w}}$"
      ],
      "text/plain": [
       "(-kappa*nu - sqrt(nu*(4*alpha*wtilde**2 + kappa**2*nu)))/(2*nu*wtilde)"
      ]
     },
     "execution_count": 8,
     "metadata": {},
     "output_type": "execute_result"
    }
   ],
   "source": [
    "sol = sm.solve(sm.Eq(foc,0), L)\n",
    "sol[0]"
   ]
  },
  {
   "cell_type": "code",
   "execution_count": 9,
   "metadata": {},
   "outputs": [],
   "source": [
    "alpha = 0.5\n",
    "kappa = 1.0\n",
    "nu = 1 / (2 * 16**2)\n",
    "tau = 0.30\n",
    "w = 1\n",
    "G = 1.5\n",
    "w_tilde = w*(1-tau)\n",
    "w=1"
   ]
  },
  {
   "attachments": {},
   "cell_type": "markdown",
   "metadata": {},
   "source": [
    "Define the function numerically"
   ]
  },
  {
   "cell_type": "code",
   "execution_count": 10,
   "metadata": {},
   "outputs": [
    {
     "name": "stdout",
     "output_type": "stream",
     "text": [
      "Optimal hours of labor: 15.301203832018528\n"
     ]
    }
   ],
   "source": [
    "def objective_function(L):\n",
    "   C = kappa + (1 - tau) * w * L\n",
    "   utility = np.log(C**alpha * G**(1 - alpha)) - nu * (L**2) / 2\n",
    "   return -utility  # Negative sign for maximization\n",
    "\n",
    "\n",
    "\n",
    "\n",
    "# Define the bounds for the variable L\n",
    "bounds = [(0, 24)]\n",
    "\n",
    "optimal_L = minimize(objective_function, x0=12, bounds=bounds).x[0]\n",
    "print(\"Optimal hours of labor:\", optimal_L)"
   ]
  },
  {
   "attachments": {},
   "cell_type": "markdown",
   "metadata": {},
   "source": [
    "Find the optimal amount of labor in the Sympy model"
   ]
  },
  {
   "cell_type": "code",
   "execution_count": 11,
   "metadata": {},
   "outputs": [
    {
     "data": {
      "text/plain": [
       "15.30165022719559"
      ]
     },
     "execution_count": 11,
     "metadata": {},
     "output_type": "execute_result"
    }
   ],
   "source": [
    "# Define the function L_star\n",
    "def L_star(w_tilde):\n",
    "    return (-kappa + np.sqrt(kappa**2 + 4 * alpha / nu * w_tilde**2)) / (2 * w_tilde)\n",
    "# w=1 =>w_tilde=0.7\n",
    "L_star(0.7)"
   ]
  },
  {
   "attachments": {},
   "cell_type": "markdown",
   "metadata": {},
   "source": [
    "We find that the optimal hours of labor is 15.3 in the numerical and Sympy models"
   ]
  },
  {
   "attachments": {},
   "cell_type": "markdown",
   "metadata": {},
   "source": [
    "**Question 2:** Illustrate how $L^{\\star}(\\tilde{w})$ depends on $w$."
   ]
  },
  {
   "cell_type": "code",
   "execution_count": 12,
   "metadata": {},
   "outputs": [
    {
     "data": {
      "image/png": "[encoded data removed]",
      "text/plain": [
       "<Figure size 640x480 with 1 Axes>"
      ]
     },
     "metadata": {},
     "output_type": "display_data"
    }
   ],
   "source": [
    "\n",
    "# Define the objective function with the budget constraint substituted in\n",
    "def objective_function(L,w):\n",
    "    C = kappa + (1 - tau) * w * L\n",
    "    utility = np.log(C**alpha * G**(1 - alpha)) - nu * (L**2) / 2\n",
    "    return -utility  # Negative sign for maximization\n",
    "\n",
    "\n",
    "# Define the bounds for the variable L\n",
    "bounds = [(0, 24)]\n",
    "w_values = np.linspace(0, 3, 50)  # Generate 50 values of w from 1 to 5\n",
    "optimal_L_values = []\n",
    "\n",
    "# Loop over different values of w\n",
    "for w in w_values:\n",
    "    optimal_L = minimize(objective_function, x0=12, args=(w,), bounds=bounds).x[0]\n",
    "    optimal_L_values.append(optimal_L)\n",
    "# Plot the results\n",
    "plt.plot(w_values, optimal_L_values)\n",
    "plt.xlabel('w')\n",
    "plt.ylabel('Optimal hours of labor')\n",
    "plt.title('Optimal hours of labor vs. w')\n",
    "plt.show()\n",
    "\n"
   ]
  },
  {
   "attachments": {},
   "cell_type": "markdown",
   "metadata": {},
   "source": [
    "\n",
    "We now consider a government, who chooses $\\tau$ and spend all of the taxes on government consumption so:\n",
    "\n",
    "$$\n",
    "G = \\tau w L^{\\star}((1-\\tau)w)\n",
    "$$\n",
    "\n",
    "**Question 3:** Plot the implied $L$, $G$ and worker utility for a grid of $\\tau$-values.\n"
   ]
  },
  {
   "attachments": {},
   "cell_type": "markdown",
   "metadata": {},
   "source": [
    "People consider government spending when working\n",
    "As the agents gain from public consumption the amount of hours worked increase\n",
    "$\\alpha=0.5$ so agents doesn't prefer the consumption is from themselves or the government"
   ]
  },
  {
   "cell_type": "code",
   "execution_count": 13,
   "metadata": {},
   "outputs": [
    {
     "data": {
      "image/png": "[encoded data removed]",
      "text/plain": [
       "<Figure size 640x480 with 1 Axes>"
      ]
     },
     "metadata": {},
     "output_type": "display_data"
    }
   ],
   "source": [
    "# Define the objective function with the budget constraint substituted in\n",
    "def objective_function(L,tau):\n",
    "    G = tau*w*L\n",
    "    C = kappa + (1 - tau) * w * L\n",
    "    utility = np.log(C**alpha * G**(1 - alpha)) - nu * (L**2) / 2\n",
    "    return -utility  # Negative sign for maximization\n",
    "\n",
    "\n",
    "# Define the bounds for the variable L\n",
    "bounds = [(1e-12, 24)]\n",
    "tau_values = np.linspace(1e-12, 1-1e-12, 1000)  # Generate 50 values of w from 1 to 5\n",
    "optimal_L_values = []\n",
    "optimal_G_values = []\n",
    "optimal_utility_values = []\n",
    "# Loop over different values of w\n",
    "for tau in tau_values:\n",
    "    solution = minimize(objective_function, x0=12, args=(tau,), bounds=bounds)\n",
    "    optimal_L = solution.x[0]\n",
    "    optimal_L_values.append(optimal_L)\n",
    "    optimal_G = tau*w*optimal_L*((1-tau)*w)\n",
    "    optimal_G_values.append(optimal_G)\n",
    "    optimal_utility = -solution.fun\n",
    "    optimal_utility_values.append(optimal_utility)\n",
    "    \n",
    "# Plot the results\n",
    "plt.plot(tau_values, optimal_L_values)\n",
    "plt.xlabel('tau')\n",
    "plt.ylabel('Optimal hours of labor')\n",
    "plt.title('Optimal hours of labor vs. w')\n",
    "plt.show()"
   ]
  },
  {
   "cell_type": "code",
   "execution_count": 14,
   "metadata": {},
   "outputs": [
    {
     "data": {
      "image/png": "[encoded data removed]",
      "text/plain": [
       "<Figure size 640x480 with 1 Axes>"
      ]
     },
     "metadata": {},
     "output_type": "display_data"
    }
   ],
   "source": [
    "plt.plot(tau_values, optimal_G_values)\n",
    "plt.xlabel('tau')\n",
    "plt.ylabel('Optimal Government Spending')\n",
    "plt.title('Optimal hours of labor vs. w')\n",
    "plt.show()"
   ]
  },
  {
   "cell_type": "code",
   "execution_count": 15,
   "metadata": {},
   "outputs": [
    {
     "data": {
      "image/png": "[encoded data removed]",
      "text/plain": [
       "<Figure size 640x480 with 1 Axes>"
      ]
     },
     "metadata": {},
     "output_type": "display_data"
    }
   ],
   "source": [
    "plt.plot(tau_values, optimal_utility_values)\n",
    "plt.xlabel('tau')\n",
    "plt.ylabel('Utility')\n",
    "plt.title('Optimal hours of labor vs. w')\n",
    "plt.xlim(0.02,0.97)\n",
    "plt.ylim(0,4)\n",
    "plt.show()"
   ]
  },
  {
   "attachments": {},
   "cell_type": "markdown",
   "metadata": {},
   "source": [
    "**Question 4:** Find the socially optimal tax rate $\\tau^{\\star}\\in(0,1)$ maximizing worker utility. Illustrate your result."
   ]
  },
  {
   "cell_type": "code",
   "execution_count": 16,
   "metadata": {},
   "outputs": [
    {
     "data": {
      "text/plain": [
       "507"
      ]
     },
     "execution_count": 16,
     "metadata": {},
     "output_type": "execute_result"
    }
   ],
   "source": [
    "optimumvalues= max( (v, i) for i, v in enumerate(optimal_utility_values) )\n",
    "optimumvalues[1]\n"
   ]
  },
  {
   "cell_type": "code",
   "execution_count": 17,
   "metadata": {},
   "outputs": [
    {
     "data": {
      "text/plain": [
       "3.0393046768154868"
      ]
     },
     "execution_count": 17,
     "metadata": {},
     "output_type": "execute_result"
    }
   ],
   "source": [
    "optimumvalues[0]"
   ]
  },
  {
   "cell_type": "code",
   "execution_count": 18,
   "metadata": {},
   "outputs": [
    {
     "data": {
      "text/plain": [
       "0.5075075075074925"
      ]
     },
     "execution_count": 18,
     "metadata": {},
     "output_type": "execute_result"
    }
   ],
   "source": [
    "tau_values[optimumvalues[1]]\n"
   ]
  },
  {
   "attachments": {},
   "cell_type": "markdown",
   "metadata": {},
   "source": [
    "When the tax is equal to 50.8% the utility is maximized"
   ]
  },
  {
   "attachments": {},
   "cell_type": "markdown",
   "metadata": {},
   "source": [
    "A more general preference formulation for the worker is:\n",
    "\n",
    "$$\n",
    "\\begin{align*}\n",
    "\\mathcal{V}(w,\\tau,G)&=\\max_{L\\in[0,24]}\\frac{\\left[ \\left( \\alpha C^{\\frac{\\sigma-1}{\\sigma}}+(1-\\alpha) G^{\\frac{\\sigma-1}{\\sigma}} \\right)^{\\frac{\\sigma}{1-\\sigma} }\\right]^{1-\\rho}-1}{1-\\rho}- \\nu\\frac{L^{1+\\varepsilon}}{1+\\varepsilon},\\,\\,\\,\\varepsilon,\\rho,\\sigma>0,\\,\\,\\,\\rho,\\sigma\\neq1\\\\&\\text{s.t.}\\\\&C=\\kappa+(1-\\tau)wL\n",
    "\\end{align*}    \n",
    "$$\n",
    "\n",
    "Optimal labor supply is now $L^{\\star}(\\tilde{w},G)$."
   ]
  },
  {
   "attachments": {},
   "cell_type": "markdown",
   "metadata": {},
   "source": [
    "Questions 5 and 6 must be answered with the general formulation, and for 2 different set of parameters:\n",
    "\n",
    "- Set 1:  $\\sigma = 1.001$, $\\rho = 1.001$ and $\\varepsilon = 1.0$.\n",
    "- Set 2:  $\\sigma = 1.5$, $\\rho = 1.5$ and $\\varepsilon = 1.0 $."
   ]
  },
  {
   "attachments": {},
   "cell_type": "markdown",
   "metadata": {},
   "source": [
    "**Question 5:** Find the $G$ that solves $G = \\tau w L^{\\star}((1-\\tau)w,G)$ using the $\\tau$ found in question 4.\n",
    "\n",
    "*Hint: First write code that solves the worker problem for given values of $G$ and $\\tau$. Then find the correct G based on this.*"
   ]
  },
  {
   "attachments": {},
   "cell_type": "markdown",
   "metadata": {},
   "source": [
    "When sigma=rho=1 the CES function converges to Coop-Douglas. So labor supply does not depend on G. "
   ]
  },
  {
   "cell_type": "code",
   "execution_count": 19,
   "metadata": {},
   "outputs": [],
   "source": [
    "# Define the objective function with the budget constraint substituted in\n",
    "def objective_function_CES(L,tau,sigma,rho,epsilon):\n",
    "    C = kappa + (1 - tau) * w * L\n",
    "    G = tau*w*L\n",
    "    utility = (((alpha*C**((sigma-1)/sigma) + (1-alpha)*G**((sigma-1)/sigma))**(sigma/(sigma-1)))**(1-rho)-1)/(1-rho)-nu*L**(1+epsilon)/(1+epsilon)\n",
    "    return -utility  # Negative sign for maximization"
   ]
  },
  {
   "cell_type": "code",
   "execution_count": 20,
   "metadata": {},
   "outputs": [
    {
     "name": "stdout",
     "output_type": "stream",
     "text": [
      "Optimal hours of labor set 1: 22.118456068587847\n",
      "Optimal hours of labor set 2: 13.355002419916632\n"
     ]
    }
   ],
   "source": [
    "w=1\n",
    "tau = 0.5075\n",
    "sigma=1.001\n",
    "rho=1.001\n",
    "epsilon=1\n",
    "optimal_L_1 = minimize(objective_function_CES, x0=12,args=(tau,sigma,rho,epsilon,), bounds=bounds).x[0]\n",
    "sigma=1.5\n",
    "rho=1.5\n",
    "epsilon=1\n",
    "optimal_L_2 = minimize(objective_function_CES, x0=12,args=(tau,sigma,rho,epsilon,), bounds=bounds).x[0]\n",
    "print(\"Optimal hours of labor set 1:\", optimal_L_1)\n",
    "print(\"Optimal hours of labor set 2:\", optimal_L_2)"
   ]
  },
  {
   "attachments": {},
   "cell_type": "markdown",
   "metadata": {},
   "source": [
    "**Question 6:** Find the socially optimal tax rate, $\\tau^{\\star}$, maximizing worker utility, while keeping $G = \\tau w L^{\\star}((1-\\tau)w,G)$."
   ]
  },
  {
   "cell_type": "code",
   "execution_count": 21,
   "metadata": {},
   "outputs": [
    {
     "data": {
      "image/png": "[encoded data removed]",
      "text/plain": [
       "<Figure size 640x480 with 1 Axes>"
      ]
     },
     "metadata": {},
     "output_type": "display_data"
    }
   ],
   "source": [
    "# write your code here  \n",
    "# Define the bounds for the variable L\n",
    "bounds = [(1e-12, 24)]\n",
    "tau_values = np.linspace(1e-12, 1-1e-12, 1000)  # Generate 50 values of w from 1 to 5\n",
    "optimal_utility_values_1 = []\n",
    "\n",
    "sigma=1.001\n",
    "rho=1.001\n",
    "epsilon=1\n",
    "# Loop over different values of w\n",
    "for tau in tau_values:\n",
    "    solution = minimize(objective_function_CES, x0=12, args=(tau,sigma,rho,epsilon,), bounds=bounds)\n",
    "    optimal_utility_1 = -solution.fun\n",
    "    optimal_utility_values_1.append(optimal_utility_1)\n",
    "    \n",
    "# Plot the results\n",
    "plt.plot(tau_values, optimal_utility_values_1)\n",
    "plt.xlabel('tau')\n",
    "plt.ylabel('utility')\n",
    "plt.xlim(0.001,1)\n",
    "plt.ylim(-1,3)\n",
    "plt.title('Optimal hours of labor vs. w')\n",
    "plt.show()"
   ]
  },
  {
   "cell_type": "code",
   "execution_count": 22,
   "metadata": {},
   "outputs": [
    {
     "name": "stdout",
     "output_type": "stream",
     "text": [
      "522\n",
      "1.9667318772294045\n",
      "0.5225225225224776\n"
     ]
    }
   ],
   "source": [
    "optimumvalues_1= max( (v, i) for i, v in enumerate(optimal_utility_values_1) )\n",
    "print(optimumvalues_1[1])\n",
    "print(optimumvalues_1[0])\n",
    "print(tau_values[optimumvalues_1[1]])"
   ]
  },
  {
   "cell_type": "code",
   "execution_count": 23,
   "metadata": {},
   "outputs": [
    {
     "data": {
      "image/png": "[encoded data removed]",
      "text/plain": [
       "<Figure size 640x480 with 1 Axes>"
      ]
     },
     "metadata": {},
     "output_type": "display_data"
    }
   ],
   "source": [
    "sigma=1.5\n",
    "rho=1.5\n",
    "epsilon=1\n",
    "optimal_utility_values_2 = []\n",
    "# Loop over different values of w\n",
    "for tau in tau_values:\n",
    "    solution = minimize(objective_function_CES, x0=12, args=(tau,sigma,rho,epsilon,), bounds=bounds)\n",
    "    optimal_utility_2 = -solution.fun\n",
    "    optimal_utility_values_2.append(optimal_utility_2)\n",
    "    \n",
    "# Plot the results\n",
    "plt.plot(tau_values, optimal_utility_values_2)\n",
    "plt.xlabel('tau')\n",
    "plt.ylabel('utility')\n",
    "plt.xlim(0.001,1)\n",
    "plt.ylim(0,2)\n",
    "plt.title('Optimal hours of labor vs. w')\n",
    "plt.show()"
   ]
  },
  {
   "cell_type": "code",
   "execution_count": 24,
   "metadata": {},
   "outputs": [
    {
     "name": "stdout",
     "output_type": "stream",
     "text": [
      "537\n",
      "1.079301560916691\n",
      "0.5375375375374625\n"
     ]
    }
   ],
   "source": [
    "optimumvalues_2= max( (v, i) for i, v in enumerate(optimal_utility_values_2) )\n",
    "print(optimumvalues_2[1])\n",
    "print(optimumvalues_2[0])\n",
    "print(tau_values[optimumvalues_2[1]])"
   ]
  },
  {
   "attachments": {},
   "cell_type": "markdown",
   "metadata": {},
   "source": [
    "## 2. <a id='toc2_'></a>[Problem 2: Labor adjustment costs](#toc0_)"
   ]
  },
  {
   "attachments": {},
   "cell_type": "markdown",
   "metadata": {},
   "source": [
    "You own a hair salon. You employ hairdressers, $\\ell_t$, to produce haircuts, $y_t = \\ell_t$.\n",
    "\n",
    "The wage for each haridresser is $w$.\n",
    "\n",
    "The demand for haircuts implies that the price of haircuts you can charge is $p_t = \\kappa_t y_t^{-\\eta}$, where $\\kappa_t$ is a demand-shock and $\\eta \\in (0,1)$ measures the elasticity of demand.\n",
    "\n",
    "Profits are:\n",
    "\n",
    "$$\n",
    "\\Pi_t = p_t y_t - w \\ell_t = \\kappa_t \\ell_t^{1-\\eta} - w \\ell_t\n",
    "$$"
   ]
  },
  {
   "attachments": {},
   "cell_type": "markdown",
   "metadata": {},
   "source": [
    "Baseline parameters are:\n",
    "- $\\eta = 0.5$\n",
    "- $w = 1.0$"
   ]
  },
  {
   "attachments": {},
   "cell_type": "markdown",
   "metadata": {},
   "source": [
    "**Question 1:** Verify numerically that $\\ell_{t}=\\left(\\frac{(1-\\eta)\\kappa_{t}}{w}\\right)^{\\frac{1}{\\eta}}$ maximises profits, for $\\kappa\\in\\left\\{1.0 , 2.0\\right\\}$."
   ]
  },
  {
   "cell_type": "code",
   "execution_count": 25,
   "metadata": {},
   "outputs": [
    {
     "name": "stdout",
     "output_type": "stream",
     "text": [
      "Kappa= 1 : Optimum l= 0.2499964502963941 Optimum profit= 0.24999999998739952\n",
      "Kappa= 2 : Optimum l= 0.9999975155570141 Optimum profit= 0.9999999999984569\n"
     ]
    }
   ],
   "source": [
    "# import\n",
    "\n",
    "#define profit function\n",
    "def profit(l, kappa):\n",
    "    profit = kappa * l**(1 - eta) - w * l\n",
    "    return -profit\n",
    "# define parameters\n",
    "eta = 0.5\n",
    "w = 1\n",
    "\n",
    "\n",
    "kappa_values = [1, 2]\n",
    "\n",
    "\n",
    "for kappa in kappa_values:\n",
    "    result = minimize(profit, x0=0, args=(kappa,))\n",
    "    optimum_l = result.x[0]\n",
    "    optimum_profit = -result.fun\n",
    "\n",
    "\n",
    "    print(\"Kappa=\", kappa,\":\", \"Optimum l=\", optimum_l, \"Optimum profit=\", optimum_profit)\n",
    "\n"
   ]
  },
  {
   "cell_type": "code",
   "execution_count": 26,
   "metadata": {},
   "outputs": [
    {
     "name": "stdout",
     "output_type": "stream",
     "text": [
      "Kappa= 1 : Optimum l= 0.25\n",
      "Kappa= 2 : Optimum l= 1.0\n"
     ]
    }
   ],
   "source": [
    "\n",
    "def sol_l(eta,w,kappa):\n",
    "    return((1-eta)*kappa/w)**(1/eta)\n",
    "for kappa in kappa_values:\n",
    "    optimum_l = sol_l(eta, w, kappa)\n",
    "    print(\"Kappa=\", kappa,\":\", \"Optimum l=\", optimum_l)"
   ]
  },
  {
   "attachments": {},
   "cell_type": "markdown",
   "metadata": {},
   "source": [
    "We now consider a *dynamic* version of the model.\n",
    "\n",
    "* The demand-shock is a so-called AR(1) in logs, \n",
    "\n",
    "$$\n",
    "\\log \\kappa_{t} = \\rho \\log \\kappa_{t-1} + \\epsilon_{t},\\,\\,\\, \\epsilon_{t+1} \\sim \\mathcal{N}(-0.5\\sigma_{\\epsilon}^2,\\sigma_{\\epsilon})\n",
    "$$\n",
    "\n",
    "* Any hiring or firing implies a fixed adjustment cost, $\\iota > 0 $.\n",
    "* Future profits are discounted with a monthly factor of $R \\in (0,1)$.\n",
    "\n",
    "The initial demand shock is $\\kappa_{-1} = 1$ and the planning horizon is 10 years, i.e. 120 months so $t \\in \\{0,1,2,\\dots,119\\}$. Initially you don't have any employees, $\\ell_{-1}=0$"
   ]
  },
  {
   "attachments": {},
   "cell_type": "markdown",
   "metadata": {},
   "source": [
    "\n",
    "The *ex post* value of the salon is *conditional* on the shock series is:\n",
    "\n",
    "$$\n",
    "h(\\epsilon_0,\\epsilon_1,\\dots,\\epsilon_{119}) = \\left[\\sum_{t=0}^{119}R^{-t}\\left[\\kappa_{t}\\ell_{t}^{1-\\eta}-w\\ell_{t}-\\boldsymbol{1}_{\\ell_{t}\\neq\\ell_{t-1}}\\iota\\right]\\right]\n",
    "$$\n",
    "\n",
    "The *ex ante* expected value of the salon can be approximated by\n",
    "\n",
    "$$\n",
    "H = \\mathbb{E}[h(\\epsilon_0,\\epsilon_1,\\dots,\\epsilon_{119})] \\approx \\frac{1}{K}\\sum_{k=0}^{K} h(\\epsilon_0^k,\\epsilon_1^k,\\dots,\\epsilon_{119}^k)\n",
    "$$\n",
    "\n",
    "where each $k\\in\\{0,1,\\dots,K-1\\}$ is a random shock series. Maximizing profitability means maximizing $H$.\n"
   ]
  },
  {
   "attachments": {},
   "cell_type": "markdown",
   "metadata": {},
   "source": [
    "Baseline parameters are: \n",
    "\n",
    "- $\\rho = 0.90$\n",
    "- $\\iota = 0.01$\n",
    "- $\\sigma_{\\epsilon} = 0.10$\n",
    "- $R = \\left(1+0.01\\right)^{1/12}$"
   ]
  },
  {
   "attachments": {},
   "cell_type": "markdown",
   "metadata": {},
   "source": [
    "**Question 2:** Calculate $H$ if the policy  $\\ell_{t}=\\left(\\frac{(1-\\eta)\\kappa_{t}}{w}\\right)^{\\frac{1}{\\eta}}$ from question 1 is followed. Choose $K$ so the approximation is good enough to not affect your results substantially."
   ]
  },
  {
   "cell_type": "code",
   "execution_count": 27,
   "metadata": {},
   "outputs": [],
   "source": [
    "# write your code here \n",
    "# Parameters\n",
    "rho = 0.90\n",
    "iota = 0.01\n",
    "sigma_epsilon = 0.10\n",
    "R = (1 + 0.01) ** (1 / 12)\n",
    "eta = 0.5\n",
    "w = 1\n",
    "\n",
    "\n",
    "def demand_shocks(kappa_0, rho, sigma_epsilon, num_periods, seed):\n",
    "    np.random.seed(seed)  # Set the random seed\n",
    "    kappa_values = [kappa_0]\n",
    "\n",
    "\n",
    "    for t in range(1, num_periods):\n",
    "        epsilon = np.random.normal(-0.5 * sigma_epsilon ** 2, sigma_epsilon)\n",
    "        log_kappa = rho * np.log(kappa_values[t-1]) + epsilon\n",
    "        kappa_t = np.exp(log_kappa)\n",
    "        kappa_values.append(kappa_t)\n",
    "\n",
    "\n",
    "    return kappa_values\n",
    "\n",
    "\n",
    "kappa_0 = 1\n",
    "num_periods = 120\n",
    "seed = 123  # Set the desired random seed\n",
    "\n",
    "\n",
    "demand_shock_values = demand_shocks(kappa_0, rho, sigma_epsilon, num_periods, seed) # list of demand shocks\n",
    "optimal_l_list = [sol_l(eta,w,kappa) for kappa in demand_shock_values] # list of labor supply given demand shocks\n"
   ]
  },
  {
   "cell_type": "code",
   "execution_count": 28,
   "metadata": {},
   "outputs": [
    {
     "data": {
      "image/png": "[encoded data removed]",
      "text/plain": [
       "<Figure size 640x480 with 1 Axes>"
      ]
     },
     "metadata": {},
     "output_type": "display_data"
    }
   ],
   "source": [
    "#make plot of demand shocks and labor supply .\n",
    "plt.plot(range(num_periods), demand_shock_values, label='Demand Shocks')\n",
    "plt.plot(range(num_periods), optimal_l_list, label='Labor Supply')\n",
    "plt.xlabel('Time (t)')\n",
    "plt.ylabel('Demand Shocks / Labor Supply')\n",
    "plt.title('Demand Shocks and Labor Supply as a Function of Time')\n",
    "plt.legend()\n",
    "plt.show()\n"
   ]
  },
  {
   "cell_type": "code",
   "execution_count": 29,
   "metadata": {},
   "outputs": [
    {
     "name": "stdout",
     "output_type": "stream",
     "text": [
      "K: 100, Ex-ante expected value of the salon (H): 29.63723551831501\n",
      "K: 1000, Ex-ante expected value of the salon (H): 29.63723551831502\n",
      "K: 5000, Ex-ante expected value of the salon (H): 29.637235518315016\n",
      "K: 10000, Ex-ante expected value of the salon (H): 29.63723551831502\n"
     ]
    }
   ],
   "source": [
    "# Function to calculate the ex-post value of the salon\n",
    "def ex_post_value(demand_shocks, labor_supply):\n",
    "    value = 0\n",
    "    for t in range(len(demand_shocks)):\n",
    "        profit = demand_shocks[t] * labor_supply[t] ** (1 - eta) - w * labor_supply[t]\n",
    "        adjustment_cost = iota if t > 0 and labor_supply[t] != labor_supply[t-1] else 0\n",
    "        value += R ** (-t) * (profit - adjustment_cost)\n",
    "    return value\n",
    "\n",
    "\n",
    "# Perform sensitivity analysis\n",
    "K_values = [100, 1000, 5000, 10000]  # Different values of K to test\n",
    "\n",
    "\n",
    "results = []\n",
    "for K in K_values:\n",
    "    ex_post_values = []\n",
    "    for k in range(K):\n",
    "        ex_post_value_k = ex_post_value(demand_shock_values, optimal_l_list)\n",
    "        ex_post_values.append(ex_post_value_k)\n",
    "\n",
    "\n",
    "    H = np.mean(ex_post_values)\n",
    "    results.append((K, H))\n",
    "\n",
    "\n",
    "# Print the results\n",
    "for K, H in results:\n",
    "    print(f\"K: {K}, Ex-ante expected value of the salon (H): {H}\")"
   ]
  },
  {
   "attachments": {},
   "cell_type": "markdown",
   "metadata": {},
   "source": [
    "Next, we consider policies on the form:\n",
    "\n",
    "$$\n",
    "\n",
    "\\ell_{t}=\\begin{cases}\n",
    "\\ell_t^{\\ast}  & \\text{if }\\left|\\ell_{t-1}-\\ell_t^{\\ast} \\right|>\\Delta\\\\\n",
    "\\ell_{t-1} & \\text{else }\n",
    "\\end{cases}\n",
    "\\\\\n",
    "\\text{where}\\,\\,\\ell_t^{\\ast} = \\left(\\frac{(1-\\eta)\\kappa_{t}}{w}\\right)^{\\frac{1}{\\eta}} \\\\\n",
    "\n",
    "$$\n",
    "With $\\Delta \\geq 0$ and $\\Delta = 0$ being the previous policy.\n"
   ]
  },
  {
   "attachments": {},
   "cell_type": "markdown",
   "metadata": {},
   "source": [
    "\n",
    "**Question 3:** Calculate $H$ if the policy above was followed with $\\Delta = 0.05$. Does it improve profitability?"
   ]
  },
  {
   "cell_type": "code",
   "execution_count": 30,
   "metadata": {},
   "outputs": [],
   "source": [
    "# write your code here"
   ]
  },
  {
   "attachments": {},
   "cell_type": "markdown",
   "metadata": {},
   "source": [
    "**Question 4:** Find the optimal $\\Delta$ maximizing $H$. Illustrate your result."
   ]
  },
  {
   "cell_type": "code",
   "execution_count": 31,
   "metadata": {},
   "outputs": [],
   "source": [
    "# write your code here"
   ]
  },
  {
   "attachments": {},
   "cell_type": "markdown",
   "metadata": {},
   "source": [
    "\n",
    "**Question 5:** Suggest an alternative policy you believe might improve profitability. Implement and test your policy.\n",
    "\n"
   ]
  },
  {
   "cell_type": "code",
   "execution_count": 32,
   "metadata": {},
   "outputs": [],
   "source": [
    "# write your code here"
   ]
  },
  {
   "attachments": {},
   "cell_type": "markdown",
   "metadata": {},
   "source": [
    "## 3. <a id='toc3_'></a>[Problem 3: Global optimizer with refined multi-start](#toc0_)"
   ]
  },
  {
   "attachments": {},
   "cell_type": "markdown",
   "metadata": {},
   "source": [
    "We consider the Griewank function:\n",
    "\n",
    "$$ f(\\boldsymbol{x}) = \\sum^n_{i=1} \\frac{x^2_i}{4000}-\\prod^n_{i=1}\\cos\\left(\\frac{x_i}{\\sqrt{i}}\\right)+1$$\n",
    "\n",
    "The **global minimum** of this function is $f(0,0) = 0$ (remember: $\\cos(0)=1$).<br>\n",
    "But the function also have a lot of **local minima**."
   ]
  },
  {
   "cell_type": "code",
   "execution_count": 33,
   "metadata": {},
   "outputs": [],
   "source": [
    "def griewank(x):\n",
    "    return griewank_(x[0],x[1])\n",
    "    \n",
    "def griewank_(x1,x2):\n",
    "    A = x1**2/4000 + x2**2/4000\n",
    "    B = np.cos(x1/np.sqrt(1))*np.cos(x2/np.sqrt(2))\n",
    "    return A-B+1"
   ]
  },
  {
   "attachments": {},
   "cell_type": "markdown",
   "metadata": {},
   "source": [
    "A **refined global optimizer with multi-start** is:\n",
    "\n",
    "1. Choose *bounds* for $\\mathbf{x}$ and *tolerance* $\\tau > 0$.\n",
    "2. Choose number of *warm-up iterations*, $\\underline{K} > 0$ and *maximum number of iterations*, $K > \\underline{K}$.\n",
    "3. In each iteration for $k \\in \\{0,1,\\dots,K-1\\}$:\n",
    "\n",
    "    A. Draw random $\\mathbf{x}^k$ uniformly within chosen bounds.\n",
    "\n",
    "    B. If $k < \\underline{K}$ go to step E.\n",
    "\n",
    "    C. Calculate $\\chi^k = 0.50\\cdot\\frac{2}{1+\\exp((k-\\underline{K})/100)}$  \n",
    "\n",
    "    D. Set $\\mathbf{x}^{k0} = \\chi^k \\mathbf{x}^k + (1-\\chi^k)\\mathbf{x}^{\\ast} $\n",
    "\n",
    "    E. Run optimizer with $\\mathbf{x}^{k0}$ as initial guess and $\\mathbf{x}^{k\\ast}$ as result.\n",
    "\n",
    "    F. Set $\\mathbf{x}^{\\ast} = \\mathbf{x}^{k\\ast}$ if $k = 0$ or $f(\\mathbf{x}^{k\\ast}) < f(\\mathbf{x}^{\\ast})$\n",
    "\n",
    "    G. If $f(\\mathbf{x}^{\\ast}) < \\tau$ go to step 4.\n",
    "\n",
    "4. Return the result $\\mathbf{x}^{\\ast}$."
   ]
  },
  {
   "attachments": {},
   "cell_type": "markdown",
   "metadata": {},
   "source": [
    "As settings we choose:\n",
    "\n",
    "* $x_1,x_2 \\in  [-600,600]$\n",
    "* $\\tau = 10^{-8}$\n",
    "* $\\underline{K}=10$\n",
    "* $K=1000$\n",
    "\n",
    "The optimizer in Step 3.E is `BFGS` with a tolerance of $\\tau$."
   ]
  },
  {
   "attachments": {},
   "cell_type": "markdown",
   "metadata": {},
   "source": [
    "**Question 1:** Implement the refined global optimizer with multi-start. Illustrate how the effective initial guesses $\\mathbf{x}^{k0}$ vary with the iteration counter $k$."
   ]
  },
  {
   "cell_type": "code",
   "execution_count": 34,
   "metadata": {},
   "outputs": [
    {
     "name": "stdout",
     "output_type": "stream",
     "text": [
      "Iteration 139: x_opt = (-8.993968409116461e-09, 3.5676375227375716e-09), f(x_k0) = 0.0\n"
     ]
    }
   ],
   "source": [
    "np.random.seed(3)\n",
    "K_warmup = 10\n",
    "def GlobalOpt(K_warmup):\n",
    "    #Setting\n",
    "    #1\n",
    "    tol=1e-8\n",
    "\n",
    "    #2\n",
    "    # Set the settings\n",
    "    \n",
    "    K_max = 1000\n",
    "    xs = np.empty((5000,2))\n",
    "    xopt = np.nan\n",
    "    fopt=np.inf\n",
    "    x_k0_values = []\n",
    "\n",
    "    for k in range(K_max):\n",
    "\n",
    "\n",
    "        # A + 1\n",
    "        x_k = -600 + 1200*np.random.uniform(size=(2,)) #bounds\n",
    "\n",
    "\n",
    "        # B\n",
    "        if k < K_warmup:\n",
    "            x_k0 = x_k     \n",
    "            \n",
    "\n",
    "        else:\n",
    "            # C\n",
    "            chi_k = 0.50 * 2 / (1 + np.exp((k - K_warmup) / 100))\n",
    "            # D\n",
    "            x_k0 = chi_k * x_k + (1 - chi_k) * xopt\n",
    "        # 1. E.\n",
    "        result = minimize(griewank, x_k0, method='BFGS', tol=tol)\n",
    "        xs[k,:] = result.x\n",
    "        # F\n",
    "        if k == 0 or result.fun < fopt:\n",
    "            xopt = xs[k,:]\n",
    "            fopt = result.fun\n",
    "\n",
    "        x_k0_values.append(x_k0)\n",
    "\n",
    "        if fopt < tol:\n",
    "            break\n",
    "\n",
    "\n",
    "    print(f\"Iteration {k}: x_opt = {xopt[0],xopt[1]}, f(x_k0) = {fopt}\")\n",
    "\n",
    "\n",
    "GlobalOpt(K_warmup)\n"
   ]
  },
  {
   "cell_type": "code",
   "execution_count": 35,
   "metadata": {},
   "outputs": [
    {
     "ename": "NameError",
     "evalue": "name 'x_k0_values' is not defined",
     "output_type": "error",
     "traceback": [
      "\u001b[0;31m---------------------------------------------------------------------------\u001b[0m",
      "\u001b[0;31mNameError\u001b[0m                                 Traceback (most recent call last)",
      "\u001b[0;32m/var/folders/f4/5d6ykk714ld42bx161fgmcd00000gn/T/ipykernel_20081/2619717001.py\u001b[0m in \u001b[0;36m<module>\u001b[0;34m\u001b[0m\n\u001b[0;32m----> 1\u001b[0;31m \u001b[0mN\u001b[0m \u001b[0;34m=\u001b[0m \u001b[0mnp\u001b[0m\u001b[0;34m.\u001b[0m\u001b[0marange\u001b[0m\u001b[0;34m(\u001b[0m\u001b[0mlen\u001b[0m\u001b[0;34m(\u001b[0m\u001b[0mx_k0_values\u001b[0m\u001b[0;34m)\u001b[0m\u001b[0;34m)\u001b[0m\u001b[0;34m\u001b[0m\u001b[0;34m\u001b[0m\u001b[0m\n\u001b[0m\u001b[1;32m      2\u001b[0m \u001b[0mx_k0_values\u001b[0m \u001b[0;34m=\u001b[0m \u001b[0mnp\u001b[0m\u001b[0;34m.\u001b[0m\u001b[0marray\u001b[0m\u001b[0;34m(\u001b[0m\u001b[0mx_k0_values\u001b[0m\u001b[0;34m)\u001b[0m\u001b[0;34m\u001b[0m\u001b[0;34m\u001b[0m\u001b[0m\n\u001b[1;32m      3\u001b[0m \u001b[0;31m# write your code here\u001b[0m\u001b[0;34m\u001b[0m\u001b[0;34m\u001b[0m\u001b[0m\n\u001b[1;32m      4\u001b[0m \u001b[0;31m# a. main\u001b[0m\u001b[0;34m\u001b[0m\u001b[0;34m\u001b[0m\u001b[0m\n\u001b[1;32m      5\u001b[0m \u001b[0mfig\u001b[0m \u001b[0;34m=\u001b[0m \u001b[0mplt\u001b[0m\u001b[0;34m.\u001b[0m\u001b[0mfigure\u001b[0m\u001b[0;34m(\u001b[0m\u001b[0;34m)\u001b[0m\u001b[0;34m\u001b[0m\u001b[0;34m\u001b[0m\u001b[0m\n",
      "\u001b[0;31mNameError\u001b[0m: name 'x_k0_values' is not defined"
     ]
    }
   ],
   "source": [
    "N = np.arange(len(x_k0_values))\n",
    "x_k0_values = np.array(x_k0_values)\n",
    "# write your code here\n",
    "# a. main\n",
    "fig = plt.figure()\n",
    "ax = fig.add_subplot(1,1,1,projection='3d')\n",
    "cs = ax.scatter(x_k0_values[:,0],x_k0_values[:,1],N,c=N);        \n",
    "\n",
    "# b. add labels\n",
    "ax.set_xlabel('$x_1$')\n",
    "ax.set_ylabel('$x_2$')\n",
    "ax.set_zlabel('$Iteration$')\n",
    "\n",
    "# c. invert xaxis\n",
    "ax.invert_xaxis()\n",
    "\n",
    "# d. colorbar\n",
    "fig.colorbar(cs);"
   ]
  },
  {
   "cell_type": "code",
   "execution_count": null,
   "metadata": {},
   "outputs": [
    {
     "ename": "NameError",
     "evalue": "name 'N' is not defined",
     "output_type": "error",
     "traceback": [
      "\u001b[0;31m---------------------------------------------------------------------------\u001b[0m",
      "\u001b[0;31mNameError\u001b[0m                                 Traceback (most recent call last)",
      "\u001b[0;32m/var/folders/f4/5d6ykk714ld42bx161fgmcd00000gn/T/ipykernel_18368/4211479816.py\u001b[0m in \u001b[0;36m<module>\u001b[0;34m\u001b[0m\n\u001b[0;32m----> 1\u001b[0;31m \u001b[0mGOFigure\u001b[0m\u001b[0;34m(\u001b[0m\u001b[0mN\u001b[0m\u001b[0;34m,\u001b[0m\u001b[0mx_k0_values\u001b[0m\u001b[0;34m)\u001b[0m\u001b[0;34m\u001b[0m\u001b[0;34m\u001b[0m\u001b[0m\n\u001b[0m",
      "\u001b[0;31mNameError\u001b[0m: name 'N' is not defined"
     ]
    }
   ],
   "source": [
    "GOFigure(N,x_k0_values)"
   ]
  },
  {
   "attachments": {},
   "cell_type": "markdown",
   "metadata": {},
   "source": [
    "**Question 2:** Is it a better idea to set $\\underline{K} = 100$? Is the convergence faster?"
   ]
  },
  {
   "cell_type": "code",
   "execution_count": null,
   "metadata": {},
   "outputs": [
    {
     "name": "stdout",
     "output_type": "stream",
     "text": [
      "Iteration 470: x_opt = (-3.7669608854800825e-09, -1.4137576514706536e-08), f(x_k0) = 0.0\n"
     ]
    }
   ],
   "source": [
    "np.random.seed(3)\n",
    "K_warmup=100\n",
    "GlobalOpt(K_warmup)"
   ]
  },
  {
   "cell_type": "code",
   "execution_count": null,
   "metadata": {},
   "outputs": [],
   "source": [
    "N = np.arange(len(x_k0_values))\n",
    "x_k0_values = np.array(x_k0_values)\n",
    "# write your code here\n",
    "# a. main\n",
    "fig = plt.figure()\n",
    "ax = fig.add_subplot(1,1,1,projection='3d')\n",
    "cs = ax.scatter(x_k0_values[:,0],x_k0_values[:,1],N,c=N);        \n",
    "\n",
    "# b. add labels\n",
    "ax.set_xlabel('$x_1$')\n",
    "ax.set_ylabel('$x_2$')\n",
    "ax.set_zlabel('$Iteration$')\n",
    "\n",
    "# c. invert xaxis\n",
    "ax.invert_xaxis()\n",
    "\n",
    "# d. colorbar\n",
    "fig.colorbar(cs);"
   ]
  },
  {
   "cell_type": "code",
   "execution_count": null,
   "metadata": {},
   "outputs": [],
   "source": []
  }
 ],
 "metadata": {
  "kernelspec": {
   "display_name": "base",
   "language": "python",
   "name": "python3"
  },
  "language_info": {
   "codemirror_mode": {
    "name": "ipython",
    "version": 3
   },
   "file_extension": ".py",
   "mimetype": "text/x-python",
   "name": "python",
   "nbconvert_exporter": "python",
   "pygments_lexer": "ipython3",
   "version": "3.9.13"
  },
  "orig_nbformat": 4,
  "vscode": {
   "interpreter": {
    "hash": "aa9602cdef683400ca8f0ce0514489af0e3f419da7527e33e0ae986ca06d7f25"
   }
  }
 },
 "nbformat": 4,
 "nbformat_minor": 2
}
