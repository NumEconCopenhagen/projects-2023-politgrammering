{
 "cells": [
  {
   "cell_type": "markdown",
   "metadata": {},
   "source": [
    "# Inaugural Project"
   ]
  },
  {
   "cell_type": "code",
   "execution_count": null,
   "metadata": {},
   "outputs": [],
   "source": []
  },
  {
   "attachments": {},
   "cell_type": "markdown",
   "metadata": {},
   "source": [
    "> **Note the following:** \n",
    "> 1. This is an example of how to structure your **inaugural project**.\n",
    "> 1. Remember the general advice on structuring and commenting your code\n",
    "> 1. The `inauguralproject.py` file includes a function which can be used multiple times in this notebook."
   ]
  },
  {
   "cell_type": "markdown",
   "metadata": {},
   "source": [
    "Imports and set magics:"
   ]
  },
  {
   "cell_type": "code",
   "execution_count": 16,
   "metadata": {},
   "outputs": [
    {
     "name": "stdout",
     "output_type": "stream",
     "text": [
      "The autoreload extension is already loaded. To reload it, use:\n",
      "  %reload_ext autoreload\n"
     ]
    }
   ],
   "source": [
    "# autoreload modules when code is run. Otherwise, python will not see recent changes. \n",
    "%load_ext autoreload\n",
    "%autoreload 2\n",
    "\n",
    "# Importing python file HouseholdSpecializationModel\n",
    "import HouseholdSpecializationModel as HSM\n",
    "import numpy as np\n",
    "\n",
    "%matplotlib inline\n",
    "import matplotlib.pyplot as plt # baseline module"
   ]
  },
  {
   "cell_type": "code",
   "execution_count": null,
   "metadata": {},
   "outputs": [],
   "source": []
  },
  {
   "cell_type": "markdown",
   "metadata": {},
   "source": [
    "# Question 1"
   ]
  },
  {
   "cell_type": "markdown",
   "metadata": {},
   "source": [
    "**Explain how you solve the model**"
   ]
  },
  {
   "cell_type": "code",
   "execution_count": 17,
   "metadata": {},
   "outputs": [
    {
     "name": "stderr",
     "output_type": "stream",
     "text": [
      "/Users/oliver/Desktop/Introduction to Programming and Numerical Analysis/lectures_and_exercises/projects-2023-politgrammering/inauguralproject/HouseholdSpecializationModel.py:60: RuntimeWarning: divide by zero encountered in reciprocal\n",
      "  H = ((1-par.alpha)*HM**((par.sigma-1)/par.sigma)+par.alpha*HF**((par.sigma-1)/par.sigma))**((par.sigma)/(par.sigma-1))\n",
      "/Users/oliver/Desktop/Introduction to Programming and Numerical Analysis/lectures_and_exercises/projects-2023-politgrammering/inauguralproject/HouseholdSpecializationModel.py:60: RuntimeWarning: invalid value encountered in reciprocal\n",
      "  H = ((1-par.alpha)*HM**((par.sigma-1)/par.sigma)+par.alpha*HF**((par.sigma-1)/par.sigma))**((par.sigma)/(par.sigma-1))\n",
      "/Users/oliver/Desktop/Introduction to Programming and Numerical Analysis/lectures_and_exercises/projects-2023-politgrammering/inauguralproject/HouseholdSpecializationModel.py:63: RuntimeWarning: invalid value encountered in reciprocal\n",
      "  utility = np.fmax(Q,1e-8)**(1-par.rho)/(1-par.rho)\n"
     ]
    },
    {
     "name": "stdout",
     "output_type": "stream",
     "text": [
      "0.5454545454545454\n",
      "0.3076923076923077\n",
      "0.21428571428571427\n",
      "1.0\n",
      "1.0\n",
      "1.0\n",
      "1.8333333333333333\n",
      "3.25\n",
      "4.666666666666667\n"
     ]
    }
   ],
   "source": [
    "\n",
    "model = HSM.HouseholdSpecializationModelClass()\n",
    "# Printing results when sigma=1\n",
    "\n",
    "# code\n",
    "x = [0.25,0.5,0.75]\n",
    "z = [0.5,1,1.5]\n",
    "\n",
    "for i in range(3):\n",
    "    for j in range(3):\n",
    "        model.par.alpha = x[i]\n",
    "        model.par.sigma =z[j]\n",
    "        results = model.solve_discrete()\n",
    "        \n",
    "        print(results.HF/results.HM)"
   ]
  },
  {
   "cell_type": "code",
   "execution_count": null,
   "metadata": {},
   "outputs": [],
   "source": []
  },
  {
   "cell_type": "markdown",
   "metadata": {},
   "source": [
    "# Question 2"
   ]
  },
  {
   "cell_type": "markdown",
   "metadata": {},
   "source": [
    "Explain your code and procedure"
   ]
  },
  {
   "cell_type": "code",
   "execution_count": 18,
   "metadata": {},
   "outputs": [
    {
     "name": "stdout",
     "output_type": "stream",
     "text": [
      "0.22314355131420976\n",
      "0.0\n",
      "0.0\n",
      "-0.11778303565638351\n",
      "-0.2231435513142097\n",
      "[-0.22314355 -0.10536052  0.          0.09531018  0.18232156]\n"
     ]
    },
    {
     "data": {
      "image/png": "[encoded data removed]",
      "text/plain": [
       "<Figure size 640x480 with 1 Axes>"
      ]
     },
     "metadata": {},
     "output_type": "display_data"
    }
   ],
   "source": [
    "model.par.alpha=0.5\n",
    "model.par.sigma=1\n",
    "\n",
    "for i in range(5):\n",
    "        model.par.wF = model.par.wF_vec[i]\n",
    "        results = model.solve_discrete()\n",
    "        \n",
    "        print(np.log(results.HF/results.HM))\n",
    "\n",
    "log_WF_WM=np.log(model.par.wF_vec)\n",
    "print(log_WF_WM)\n",
    "\n",
    "fig = plt.figure()\n",
    "\n",
    "\n",
    "# b. plot\n",
    "ax = fig.add_subplot(1,1,1)\n",
    "\n",
    "\n",
    "ax.plot(log_WF_WM,[0.22314355131420976, 0.0, 0.0, -0.11778303565638351, -0.2231435513142097])\n",
    "\n",
    "\n",
    "ax.set_title('Figure 1')\n",
    "ax.set_xlabel('$log(wF/wM)$')\n",
    "ax.set_ylabel('$log(HF/HM)$');\n"
   ]
  },
  {
   "cell_type": "markdown",
   "metadata": {},
   "source": [
    "# Question 3"
   ]
  },
  {
   "cell_type": "code",
   "execution_count": null,
   "metadata": {},
   "outputs": [],
   "source": [
    "\n"
   ]
  },
  {
   "cell_type": "markdown",
   "metadata": {},
   "source": [
    "Explain your code and procedure"
   ]
  },
  {
   "cell_type": "code",
   "execution_count": 19,
   "metadata": {},
   "outputs": [
    {
     "ename": "AttributeError",
     "evalue": "'HouseholdSpecializationModelClass' object has no attribute 'solve'",
     "output_type": "error",
     "traceback": [
      "\u001b[0;31m---------------------------------------------------------------------------\u001b[0m",
      "\u001b[0;31mAttributeError\u001b[0m                            Traceback (most recent call last)",
      "\u001b[0;32m/var/folders/12/xfg3qtdn5nqdjdvqsnv8m4nm0000gn/T/ipykernel_15403/3552625024.py\u001b[0m in \u001b[0;36m<module>\u001b[0;34m\u001b[0m\n\u001b[1;32m      1\u001b[0m \u001b[0;31m# code\u001b[0m\u001b[0;34m\u001b[0m\u001b[0;34m\u001b[0m\u001b[0m\n\u001b[0;32m----> 2\u001b[0;31m \u001b[0mmodel\u001b[0m\u001b[0;34m.\u001b[0m\u001b[0msolve\u001b[0m\u001b[0;34m(\u001b[0m\u001b[0;34m)\u001b[0m\u001b[0;34m\u001b[0m\u001b[0;34m\u001b[0m\u001b[0m\n\u001b[0m\u001b[1;32m      3\u001b[0m \u001b[0;32mfor\u001b[0m \u001b[0mi\u001b[0m \u001b[0;32min\u001b[0m \u001b[0mrange\u001b[0m\u001b[0;34m(\u001b[0m\u001b[0;36m5\u001b[0m\u001b[0;34m)\u001b[0m\u001b[0;34m:\u001b[0m\u001b[0;34m\u001b[0m\u001b[0;34m\u001b[0m\u001b[0m\n\u001b[1;32m      4\u001b[0m         \u001b[0mres\u001b[0m \u001b[0;34m=\u001b[0m \u001b[0mmodel\u001b[0m\u001b[0;34m.\u001b[0m\u001b[0msolve\u001b[0m\u001b[0;34m(\u001b[0m\u001b[0;34m)\u001b[0m\u001b[0;34m\u001b[0m\u001b[0;34m\u001b[0m\u001b[0m\n\u001b[1;32m      5\u001b[0m \u001b[0;34m\u001b[0m\u001b[0m\n",
      "\u001b[0;31mAttributeError\u001b[0m: 'HouseholdSpecializationModelClass' object has no attribute 'solve'"
     ]
    }
   ],
   "source": [
    "# code\n",
    "model.solve()\n",
    "for i in range(5):\n",
    "        res = model.solve()\n",
    "\n",
    "print_solution(x1,x2,u,I,p1,p2)\n",
    "\n",
    "\n",
    "#Det har noget med det her at gøre\n",
    " #missing line, hint: res = optimize.minimize(?,?,method='SLSQP',bounds=bounds,constraints=constraints)\n",
    "#se A7.py \n",
    "#se videoen til optimize minimize\n",
    "\n",
    "# a. contraint function (negative if violated)\n",
    "\n",
    "\n",
    "\n",
    "#løs optimizer i py filen"
   ]
  },
  {
   "cell_type": "markdown",
   "metadata": {},
   "source": [
    "ADD CONCISE CONLUSION."
   ]
  },
  {
   "cell_type": "code",
   "execution_count": 36,
   "metadata": {},
   "outputs": [
    {
     "name": "stderr",
     "output_type": "stream",
     "text": [
      "/Users/oliver/Desktop/Introduction to Programming and Numerical Analysis/lectures_and_exercises/projects-2023-politgrammering/inauguralproject/HouseholdSpecializationModel.py:126: RuntimeWarning: invalid value encountered in true_divide\n",
      "  y = np.log(sol.HF_vec/sol.HM_vec)\n"
     ]
    },
    {
     "ename": "AttributeError",
     "evalue": "'NoneType' object has no attribute 'x'",
     "output_type": "error",
     "traceback": [
      "\u001b[0;31m---------------------------------------------------------------------------\u001b[0m",
      "\u001b[0;31mAttributeError\u001b[0m                            Traceback (most recent call last)",
      "\u001b[0;32m/var/folders/12/xfg3qtdn5nqdjdvqsnv8m4nm0000gn/T/ipykernel_15403/990110524.py\u001b[0m in \u001b[0;36m<module>\u001b[0;34m\u001b[0m\n\u001b[1;32m      1\u001b[0m \u001b[0;31m#Question 4\u001b[0m\u001b[0;34m\u001b[0m\u001b[0;34m\u001b[0m\u001b[0m\n\u001b[1;32m      2\u001b[0m \u001b[0mreg\u001b[0m\u001b[0;34m=\u001b[0m \u001b[0mHSM\u001b[0m\u001b[0;34m.\u001b[0m\u001b[0mHouseholdSpecializationModelClass\u001b[0m\u001b[0;34m(\u001b[0m\u001b[0;34m)\u001b[0m\u001b[0;34m.\u001b[0m\u001b[0mrun_regression\u001b[0m\u001b[0;34m(\u001b[0m\u001b[0;34m)\u001b[0m\u001b[0;34m\u001b[0m\u001b[0;34m\u001b[0m\u001b[0m\n\u001b[0;32m----> 3\u001b[0;31m \u001b[0mprint\u001b[0m\u001b[0;34m(\u001b[0m\u001b[0mreg\u001b[0m\u001b[0;34m.\u001b[0m\u001b[0mx\u001b[0m\u001b[0;34m)\u001b[0m\u001b[0;34m\u001b[0m\u001b[0;34m\u001b[0m\u001b[0m\n\u001b[0m",
      "\u001b[0;31mAttributeError\u001b[0m: 'NoneType' object has no attribute 'x'"
     ]
    }
   ],
   "source": [
    "#Question 4\n",
    "reg= HSM.HouseholdSpecializationModelClass().run_regression()\n",
    "print(reg.x)\n"
   ]
  },
  {
   "cell_type": "code",
   "execution_count": null,
   "metadata": {},
   "outputs": [],
   "source": [
    "def solve(self,do_print=False):\n",
    "        \"\"\" solve model continously \"\"\"\n",
    "       \n",
    "        par = self.par\n",
    "        sol = self.sol\n",
    "        opt = SimpleNamespace()\n",
    "        \n",
    "        # a. all possible choices\n",
    "        x = np.linspace(0,24,49)\n",
    "        LM,HM,LF,HF = np.meshgrid(x,x,x,x) # all combinations\n",
    "    \n",
    "        LM = LM.ravel() # vector\n",
    "        HM = HM.ravel()\n",
    "        LF = LF.ravel()\n",
    "        HF = HF.ravel()\n",
    "\n",
    "        # b. calculate utility\n",
    "        u = self.calc_utility(LM,HM,LF,HF)\n",
    "    \n",
    "        # c. set to minus infinity if constraint is broken\n",
    "        constraints = ({'type': 'ineq', 'fun': lambda LM, HM: 24- LM-HM, lambda LF, HF: 24- LF-HF })\n",
    "        bounds = ((0,24))\n",
    "\n",
    "        # b. call optimizer\n",
    "        initial_guess = (4/4)/6 # some guess, should be feasible\n",
    "        res = optimize.minimize(\n",
    "            lambda x: -utility_function(x,alpha),initial_guess,\n",
    "            method='SLSQP',bounds=bounds,constraints=constraints)\n",
    "\n",
    "        print(res.message) # check that the solver has terminated correctly\n",
    "\n",
    "        # c. print result\n",
    "        print_solution(res.x,alpha,I,p)\n",
    "    \n",
    "    pass"
   ]
  }
 ],
 "metadata": {
  "kernelspec": {
   "display_name": "base",
   "language": "python",
   "name": "python3"
  },
  "language_info": {
   "codemirror_mode": {
    "name": "ipython",
    "version": 3
   },
   "file_extension": ".py",
   "mimetype": "text/x-python",
   "name": "python",
   "nbconvert_exporter": "python",
   "pygments_lexer": "ipython3",
   "version": "3.9.13"
  },
  "toc-autonumbering": true,
  "vscode": {
   "interpreter": {
    "hash": "6b92a34e5d39cac9fbf402cb9677fd5c53b41ade2db1326056da974f0aad65a4"
   }
  }
 },
 "nbformat": 4,
 "nbformat_minor": 4
}
