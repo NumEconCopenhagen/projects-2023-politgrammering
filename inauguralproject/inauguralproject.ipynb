{
 "cells": [
  {
   "cell_type": "markdown",
   "metadata": {},
   "source": [
    "# Inaugural Project"
   ]
  },
  {
   "attachments": {},
   "cell_type": "markdown",
   "metadata": {},
   "source": [
    "> **Note the following:** \n",
    "> 1. This is an example of how to structure your **inaugural project**.\n",
    "> 1. Remember the general advice on structuring and commenting your code\n",
    "> 1. The `inauguralproject.py` file includes a function which can be used multiple times in this notebook."
   ]
  },
  {
   "cell_type": "markdown",
   "metadata": {},
   "source": [
    "Imports and set magics:"
   ]
  },
  {
   "cell_type": "code",
   "execution_count": null,
   "metadata": {},
   "outputs": [],
   "source": [
    "# autoreload modules when code is run. Otherwise, python will not see recent changes. \n",
    "%load_ext autoreload\n",
    "%autoreload 2\n",
    "\n",
    "# Importing python file HouseholdSpecializationModel\n",
    "import HouseholdSpecializationModel as HSM\n",
    "import numpy as np\n",
    "\n",
    "%matplotlib inline\n",
    "import matplotlib.pyplot as plt # baseline module"
   ]
  },
  {
   "cell_type": "markdown",
   "metadata": {},
   "source": [
    "# Question 1"
   ]
  },
  {
   "cell_type": "code",
   "execution_count": null,
   "metadata": {},
   "outputs": [],
   "source": [
    "\n",
    "model = HSM.HouseholdSpecializationModelClass()\n",
    "# Printing results when sigma=1\n",
    "\n",
    "# code\n",
    "x = [0.25,0.5,0.75]\n",
    "z = [0.5,1,1.5]\n",
    "#Made a for loop where the values of alpha and sigma are changed in each iteration\n",
    "for i in range(3):\n",
    "    for j in range(3):\n",
    "        model.par.alpha = x[i]\n",
    "        model.par.sigma =z[j]\n",
    "        results = model.solve_discrete()\n",
    "        \n",
    "        print(results.HF/results.HM)"
   ]
  },
  {
   "attachments": {},
   "cell_type": "markdown",
   "metadata": {},
   "source": [
    "When alpha=0.5, men and women are equally productive in the home. They therefore share work at home equally, since they also get the same wage in the labor market wF=wM. \n",
    "\n",
    "When alpha=0.25 men are more productive at home than women, women therefore work less than men at home (HF/HM)<1. \n",
    "\n",
    "When alpha=0.75 the opposite is true, women are more productive in the home than men, and therefore work more than men at home HF/FM>1 \n",
    "\n",
    "When sigma increases, HF/HM decreases for alpha=0.25 and increases for alpha=0.75.  When it is easier to substitute between labor in the home, it makes sense to substitute towards the more productive of the man and the woman.\n"
   ]
  },
  {
   "attachments": {},
   "cell_type": "markdown",
   "metadata": {},
   "source": [
    "![](picture3.png)"
   ]
  },
  {
   "cell_type": "markdown",
   "metadata": {},
   "source": [
    "# Question 2"
   ]
  },
  {
   "cell_type": "markdown",
   "metadata": {},
   "source": [
    "Explain your code and procedure"
   ]
  },
  {
   "cell_type": "code",
   "execution_count": null,
   "metadata": {},
   "outputs": [],
   "source": [
    "model.par.alpha=0.5\n",
    "model.par.sigma=1\n",
    "\n",
    "for i in range(5):\n",
    "        model.par.wF = model.par.wF_vec[i]\n",
    "        results = model.solve_discrete()\n",
    "        \n",
    "        print(np.log(results.HF/results.HM))\n",
    "\n",
    "log_WF_WM=np.log(model.par.wF_vec)\n",
    "print(log_WF_WM)\n",
    "\n",
    "fig = plt.figure()\n",
    "\n",
    "\n",
    "# b. plot\n",
    "ax = fig.add_subplot(1,1,1)\n",
    "\n",
    "\n",
    "ax.plot(log_WF_WM,[0.22314355131420976, 0.0, 0.0, -0.11778303565638351, -0.2231435513142097])\n",
    "\n",
    "\n",
    "ax.set_title('Figure 1')\n",
    "ax.set_xlabel('$log(wF/wM)$')\n",
    "ax.set_ylabel('$log(HF/HM)$');\n"
   ]
  },
  {
   "attachments": {},
   "cell_type": "markdown",
   "metadata": {},
   "source": [
    "The man’s wage wM is normalized to one, so the relative wage wF/wM is just the woman’s wage wF. When the man´s and woman´s wages are equal wF=wM, the relative wage is one, so the logaritm equals 0. Hence, negative values of log(wF/wM) reflect that wF < wM, and positive values of log(wF/wM) reflect that  wF > wM.  \n",
    "\n",
    "The negative connection between log(wF/wM) and log(HF/HM) is intuitive. When the relative wage increases the opportunity cost of the woman working at home increases, since she can get a higher wage in the labor market.  The couple therefore choose to let the woman work more in the labor market and less in the home. \n",
    "\n",
    "It looks like the slope (the elasticity) is around beta1=–0.5. If the relative wage increases by one percent, the relative worktime in the home decreases by one percent. \n",
    "\n"
   ]
  },
  {
   "cell_type": "markdown",
   "metadata": {},
   "source": [
    "# Question 3"
   ]
  },
  {
   "cell_type": "code",
   "execution_count": null,
   "metadata": {},
   "outputs": [],
   "source": [
    "model.solve()\n",
    "\n",
    "model.par.alpha=0.5\n",
    "model.par.sigma=1\n",
    "\n",
    "# Append to ratios with each iteration\n",
    "ratios = []\n",
    "for i in range(5):\n",
    "        model.par.wF = model.par.wF_vec[i]\n",
    "        results = model.solve()\n",
    "        \n",
    "        ratio = np.log(results.HF/results.HM) \n",
    "        print(ratio)\n",
    "        ratios.append(ratio)\n",
    "\n",
    "log_WF_WM=np.log(model.par.wF_vec)\n",
    "print(ratios)\n",
    "print(log_WF_WM)\n",
    "\n"
   ]
  },
  {
   "cell_type": "code",
   "execution_count": null,
   "metadata": {},
   "outputs": [],
   "source": [
    "# code\n",
    "fig = plt.figure()\n",
    "\n",
    "# plot\n",
    "ax = fig.add_subplot(1,1,1)\n",
    "\n",
    "ax.plot(log_WF_WM,ratios)\n",
    "\n",
    "# axis information\n",
    "ax.set_title('Figure 2')\n",
    "ax.set_xlabel('$log(wF/wM)$')\n",
    "ax.set_ylabel('$log(HF/HM)$');"
   ]
  },
  {
   "attachments": {},
   "cell_type": "markdown",
   "metadata": {},
   "source": [
    " We change the model such that the choice of the household becomes continuous. We observe that the graph becomes more “symmetrical” when the choice is continuous. In the previous question the graph wasnt symmetrical, which we didnt expect. We would expect that HF/HM would increase with the same percentage point when wF/wM decreases as HF/HM would decrease when wF/wM increases.  \n"
   ]
  },
  {
   "attachments": {},
   "cell_type": "markdown",
   "metadata": {},
   "source": [
    "# Question 4"
   ]
  },
  {
   "cell_type": "code",
   "execution_count": null,
   "metadata": {},
   "outputs": [],
   "source": [
    "#Question 4\n",
    "\n",
    "model.solve()\n",
    "#\n",
    "# Changes manually for alpha={0.25, 0.5, 0.75} and Sigma={0.5, 1, 1.5}\n",
    "model.par.alpha=0.75\n",
    "model.par.sigma=1\n",
    "\n",
    "#repeat the procees of iterating into the ratios loop\n",
    "ratios = []\n",
    "for i in range(5):\n",
    "        model.par.wF = model.par.wF_vec[i]\n",
    "        results = model.solve()\n",
    "        \n",
    "        ratio = np.log(results.HF/results.HM) \n",
    "        ratios.append(ratio)\n",
    "\n",
    "log_WF_WM=np.log(model.par.wF_vec)\n",
    "print(ratios)"
   ]
  },
  {
   "cell_type": "code",
   "execution_count": null,
   "metadata": {},
   "outputs": [],
   "source": [
    "#Insert the vector into the HouseHoldSpecializationModel.py file\n",
    "model.run_regression()"
   ]
  },
  {
   "attachments": {},
   "cell_type": "markdown",
   "metadata": {},
   "source": [
    "Siminski and Yetsenga (2022) estimated beta0=0.4 and beta1=-0.1. We try out different values of alpha and sigma and report the estimated regression coefficients. In question 2 and 3 we assumed alpha=0.5 and sigma=1, and we get beta1=-0.464 and beta=0.0006. We get negative estimates og beta1 regardless of the values of alpha and sigma, wich makes sense. The results indicate that alpha should take a value which is larger than 0.5 from  beta0. It is estimated from the given values of sigma and alpha, that sigma should be under 1 when looking at beta 1, but it is possible that it is over 1. "
   ]
  },
  {
   "attachments": {},
   "cell_type": "markdown",
   "metadata": {},
   "source": [
    "![](picture1.png)"
   ]
  }
 ],
 "metadata": {
  "kernelspec": {
   "display_name": "base",
   "language": "python",
   "name": "python3"
  },
  "language_info": {
   "codemirror_mode": {
    "name": "ipython",
    "version": 3
   },
   "file_extension": ".py",
   "mimetype": "text/x-python",
   "name": "python",
   "nbconvert_exporter": "python",
   "pygments_lexer": "ipython3",
   "version": "3.9.13 (main, Aug 25 2022, 18:29:29) \n[Clang 12.0.0 ]"
  },
  "toc-autonumbering": true,
  "vscode": {
   "interpreter": {
    "hash": "6b92a34e5d39cac9fbf402cb9677fd5c53b41ade2db1326056da974f0aad65a4"
   }
  }
 },
 "nbformat": 4,
 "nbformat_minor": 4
}
