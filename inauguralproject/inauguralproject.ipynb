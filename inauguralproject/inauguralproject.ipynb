{
 "cells": [
  {
   "cell_type": "markdown",
   "metadata": {},
   "source": [
    "# Inaugural Project"
   ]
  },
  {
   "cell_type": "code",
   "execution_count": null,
   "metadata": {},
   "outputs": [],
   "source": [
    "Her er en forklaring"
   ]
  },
  {
   "attachments": {},
   "cell_type": "markdown",
   "metadata": {},
   "source": [
    "> **Note the following:** \n",
    "> 1. This is an example of how to structure your **inaugural project**.\n",
    "> 1. Remember the general advice on structuring and commenting your code\n",
    "> 1. The `inauguralproject.py` file includes a function which can be used multiple times in this notebook."
   ]
  },
  {
   "cell_type": "markdown",
   "metadata": {},
   "source": [
    "Imports and set magics:"
   ]
  },
  {
   "cell_type": "code",
   "execution_count": 1,
   "metadata": {},
   "outputs": [],
   "source": [
    "# autoreload modules when code is run. Otherwise, python will not see recent changes. \n",
    "%load_ext autoreload\n",
    "%autoreload 2\n",
    "\n",
    "# Importing python file HouseholdSpecializationModel\n",
    "import HouseholdSpecializationModel as HSM\n",
    "import numpy as np\n",
    "\n",
    "%matplotlib inline\n",
    "import matplotlib.pyplot as plt # baseline module"
   ]
  },
  {
   "cell_type": "code",
   "execution_count": null,
   "metadata": {},
   "outputs": [],
   "source": []
  },
  {
   "cell_type": "markdown",
   "metadata": {},
   "source": [
    "# Question 1"
   ]
  },
  {
   "cell_type": "markdown",
   "metadata": {},
   "source": [
    "**Explain how you solve the model**"
   ]
  },
  {
   "cell_type": "code",
   "execution_count": 2,
   "metadata": {},
   "outputs": [
    {
     "name": "stderr",
     "output_type": "stream",
     "text": [
      "/Users/oliver/Desktop/Introduction to Programming and Numerical Analysis/projects-2023-politgrammering/inauguralproject/HouseholdSpecializationModel.py:60: RuntimeWarning: divide by zero encountered in reciprocal\n",
      "  H = ((1-par.alpha)*HM**((par.sigma-1)/par.sigma)+par.alpha*HF**((par.sigma-1)/par.sigma))**((par.sigma)/(par.sigma-1))\n",
      "/Users/oliver/Desktop/Introduction to Programming and Numerical Analysis/projects-2023-politgrammering/inauguralproject/HouseholdSpecializationModel.py:60: RuntimeWarning: invalid value encountered in reciprocal\n",
      "  H = ((1-par.alpha)*HM**((par.sigma-1)/par.sigma)+par.alpha*HF**((par.sigma-1)/par.sigma))**((par.sigma)/(par.sigma-1))\n",
      "/Users/oliver/Desktop/Introduction to Programming and Numerical Analysis/projects-2023-politgrammering/inauguralproject/HouseholdSpecializationModel.py:63: RuntimeWarning: invalid value encountered in reciprocal\n",
      "  utility = np.fmax(Q,1e-8)**(1-par.rho)/(1-par.rho)\n"
     ]
    },
    {
     "name": "stdout",
     "output_type": "stream",
     "text": [
      "0.5454545454545454\n",
      "0.3076923076923077\n",
      "0.21428571428571427\n",
      "1.0\n",
      "1.0\n",
      "1.0\n",
      "1.8333333333333333\n",
      "3.25\n",
      "4.666666666666667\n"
     ]
    }
   ],
   "source": [
    "\n",
    "model = HSM.HouseholdSpecializationModelClass()\n",
    "# Printing results when sigma=1\n",
    "\n",
    "# code\n",
    "x = [0.25,0.5,0.75]\n",
    "z = [0.5,1,1.5]\n",
    "\n",
    "for i in range(3):\n",
    "    for j in range(3):\n",
    "        model.par.alpha = x[i]\n",
    "        model.par.sigma =z[j]\n",
    "        results = model.solve_discrete()\n",
    "        \n",
    "        print(results.HF/results.HM)"
   ]
  },
  {
   "cell_type": "code",
   "execution_count": null,
   "metadata": {},
   "outputs": [],
   "source": []
  },
  {
   "cell_type": "markdown",
   "metadata": {},
   "source": [
    "# Question 2"
   ]
  },
  {
   "cell_type": "markdown",
   "metadata": {},
   "source": [
    "Explain your code and procedure"
   ]
  },
  {
   "cell_type": "code",
   "execution_count": 3,
   "metadata": {},
   "outputs": [
    {
     "name": "stdout",
     "output_type": "stream",
     "text": [
      "2.0794415416798357\n",
      "1.6094379124341003\n",
      "1.540445040947149\n",
      "1.540445040947149\n",
      "1.466337068793427\n",
      "[-0.22314355 -0.10536052  0.          0.09531018  0.18232156]\n"
     ]
    },
    {
     "data": {
      "text/plain": [
       "[<matplotlib.lines.Line2D at 0x7f7d0f61de20>]"
      ]
     },
     "execution_count": 3,
     "metadata": {},
     "output_type": "execute_result"
    },
    {
     "data": {
      "image/png": "[encoded data removed]",
      "text/plain": [
       "<Figure size 640x480 with 1 Axes>"
      ]
     },
     "metadata": {},
     "output_type": "display_data"
    }
   ],
   "source": [
    "for i in range(5):\n",
    "        model.par.wF = model.par.wF_vec[i]\n",
    "        results = model.solve_discrete()\n",
    "        \n",
    "        print(np.log(results.HF/results.HM))\n",
    "\n",
    "log_WF_WM=np.log(model.par.wF_vec)\n",
    "print(log_WF_WM)\n",
    "\n",
    "plt.plot(log_WF_WM,[2.0794415416798357,1.6094379124341003,1.540445040947149,1.540445040947149,1.466337068793427])\n"
   ]
  },
  {
   "cell_type": "markdown",
   "metadata": {},
   "source": [
    "# Question 3"
   ]
  },
  {
   "cell_type": "code",
   "execution_count": null,
   "metadata": {},
   "outputs": [],
   "source": [
    "\n"
   ]
  },
  {
   "cell_type": "markdown",
   "metadata": {},
   "source": [
    "Explain your code and procedure"
   ]
  },
  {
   "cell_type": "code",
   "execution_count": 4,
   "metadata": {},
   "outputs": [
    {
     "ename": "SyntaxError",
     "evalue": "invalid syntax (3357457823.py, line 15)",
     "output_type": "error",
     "traceback": [
      "\u001b[0;36m  File \u001b[0;32m\"/var/folders/12/xfg3qtdn5nqdjdvqsnv8m4nm0000gn/T/ipykernel_5903/3357457823.py\"\u001b[0;36m, line \u001b[0;32m15\u001b[0m\n\u001b[0;31m    Det har noget med det her at gøre\u001b[0m\n\u001b[0m        ^\u001b[0m\n\u001b[0;31mSyntaxError\u001b[0m\u001b[0;31m:\u001b[0m invalid syntax\n"
     ]
    }
   ],
   "source": [
    "# code\n",
    "\n",
    "model.solve_discrete()\n",
    "\n",
    "for i in range(3):\n",
    "    for j in range(3):\n",
    "        model.par.alpha = x[i]\n",
    "        model.par.sigma =z[j]\n",
    "        results = model.solve_discrete()\n",
    "        \n",
    "        print(results.HF/results.HM)\n",
    "\n",
    "\n",
    "\n",
    "Det har noget med det her at gøre\n",
    " missing line, hint: res = optimize.minimize(?,?,method='SLSQP',bounds=bounds,constraints=constraints)\n",
    "se A7.py \n",
    "se videoen til optimize minimize\n",
    "\n",
    "løs optimizer i py filen"
   ]
  },
  {
   "cell_type": "markdown",
   "metadata": {},
   "source": [
    "ADD CONCISE CONLUSION."
   ]
  }
 ],
 "metadata": {
  "kernelspec": {
   "display_name": "base",
   "language": "python",
   "name": "python3"
  },
  "language_info": {
   "codemirror_mode": {
    "name": "ipython",
    "version": 3
   },
   "file_extension": ".py",
   "mimetype": "text/x-python",
   "name": "python",
   "nbconvert_exporter": "python",
   "pygments_lexer": "ipython3",
   "version": "3.9.13 (main, Aug 25 2022, 18:29:29) \n[Clang 12.0.0 ]"
  },
  "toc-autonumbering": true,
  "vscode": {
   "interpreter": {
    "hash": "6b92a34e5d39cac9fbf402cb9677fd5c53b41ade2db1326056da974f0aad65a4"
   }
  }
 },
 "nbformat": 4,
 "nbformat_minor": 4
}
